{
 "cells": [
  {
   "cell_type": "code",
   "execution_count": 1,
   "metadata": {},
   "outputs": [
    {
     "name": "stdout",
     "output_type": "stream",
     "text": [
      "Folder structure created successfully.\n"
     ]
    }
   ],
   "source": [
    "import os\n",
    "\n",
    "def create_file(path, content=\"\"):\n",
    "    with open(path, \"w\") as file:\n",
    "        file.write(content)\n",
    "\n",
    "def create_folder_structure():\n",
    "    base_dir = \"invoice_app\"\n",
    "\n",
    "    structure = {\n",
    "        \"app\": {\n",
    "            \"__init__.py\": \"\",\n",
    "            \"main.py\": \"\",\n",
    "            \"config.py\": \"\",\n",
    "            \"api\": {\n",
    "                \"__init__.py\": \"\",\n",
    "                \"endpoints\": {\n",
    "                    \"__init__.py\": \"\",\n",
    "                    \"invoices.py\": \"\",\n",
    "                    \"clients.py\": \"\",\n",
    "                    \"products.py\": \"\"\n",
    "                },\n",
    "                \"dependencies.py\": \"\"\n",
    "            },\n",
    "            \"core\": {\n",
    "                \"__init__.py\": \"\",\n",
    "                \"security.py\": \"\",\n",
    "                \"config.py\": \"\"\n",
    "            },\n",
    "            \"db\": {\n",
    "                \"__init__.py\": \"\",\n",
    "                \"database.py\": \"\",\n",
    "                \"models.py\": \"\",\n",
    "                \"crud.py\": \"\"\n",
    "            },\n",
    "            \"schemas\": {\n",
    "                \"__init__.py\": \"\",\n",
    "                \"invoice.py\": \"\",\n",
    "                \"client.py\": \"\",\n",
    "                \"product.py\": \"\"\n",
    "            },\n",
    "            \"services\": {\n",
    "                \"__init__.py\": \"\",\n",
    "                \"invoice_service.py\": \"\",\n",
    "                \"pdf_service.py\": \"\"\n",
    "            },\n",
    "            \"static\": {\n",
    "                \"logo.png\": \"\"\n",
    "            }\n",
    "        },\n",
    "        \"templates\": {\n",
    "            \"index.html\": \"\"\n",
    "        },\n",
    "        \"tests\": {\n",
    "            \"__init__.py\": \"\",\n",
    "            \"test_api.py\": \"\",\n",
    "            \"test_services.py\": \"\"\n",
    "        },\n",
    "        \"alembic\": {\n",
    "            \"versions\": {},\n",
    "            \"alembic.ini\": \"\"\n",
    "        },\n",
    "        \"requirements.txt\": \"\"\n",
    "    }\n",
    "\n",
    "    def create_structure(base_path, structure):\n",
    "        for name, content in structure.items():\n",
    "            path = os.path.join(base_path, name)\n",
    "            if isinstance(content, dict):\n",
    "                os.makedirs(path, exist_ok=True)\n",
    "                create_structure(path, content)\n",
    "            else:\n",
    "                create_file(path, content)\n",
    "\n",
    "    os.makedirs(base_dir, exist_ok=True)\n",
    "    create_structure(base_dir, structure)\n",
    "\n",
    "if __name__ == \"__main__\":\n",
    "    create_folder_structure()\n",
    "    print(\"Folder structure created successfully.\")\n"
   ]
  },
  {
   "cell_type": "code",
   "execution_count": null,
   "metadata": {},
   "outputs": [],
   "source": []
  }
 ],
 "metadata": {
  "kernelspec": {
   "display_name": "base",
   "language": "python",
   "name": "python3"
  },
  "language_info": {
   "codemirror_mode": {
    "name": "ipython",
    "version": 3
   },
   "file_extension": ".py",
   "mimetype": "text/x-python",
   "name": "python",
   "nbconvert_exporter": "python",
   "pygments_lexer": "ipython3",
   "version": "3.12.7"
  }
 },
 "nbformat": 4,
 "nbformat_minor": 2
}
